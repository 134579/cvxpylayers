{
 "cells": [
  {
   "cell_type": "markdown",
   "metadata": {},
   "source": [
    "# Cvxpylayers tutorial"
   ]
  },
  {
   "cell_type": "code",
   "execution_count": 1,
   "metadata": {},
   "outputs": [],
   "source": [
    "import cvxpy as cp\n",
    "import matplotlib.pyplot as plt\n",
    "import numpy as np\n",
    "import torch\n",
    "from cvxpylayers.torch import CvxpyLayer\n",
    "torch.set_default_dtype(torch.double)\n",
    "\n",
    "np.set_printoptions(precision=3, suppress=True)"
   ]
  },
  {
   "cell_type": "markdown",
   "metadata": {},
   "source": [
    "## Parametrized convex optimization problem\n",
    "\n",
    "$$\n",
    "\\begin{array}{ll} \\mbox{minimize} & f_0(x;\\theta)\\\\\n",
    "\\mbox{subject to} & f_i(x;\\theta) \\leq 0, \\quad i=1, \\ldots, m\\\\\n",
    "& A(\\theta)x=b(\\theta),\n",
    "\\end{array}\n",
    "$$\n",
    "with variable $x \\in \\mathbf{R}^n$ and parameters $\\theta\\in\\Theta\\subseteq\\mathbf{R}^p$\n",
    "\n",
    "* objective and inequality constraints $f_0, \\ldots, f_m$ are *convex* in $x$ for each $\\theta$, *i.e.*, their graphs curve upward\n",
    "* equality constraints are linear\n",
    "* for a given value of $\\theta$, find a value for $x$ that minimizes objective, while satisfying constraints\n",
    "* we can efficiently solve these globally with near total reliability"
   ]
  },
  {
   "cell_type": "markdown",
   "metadata": {},
   "source": [
    "## Solution map\n",
    "* Solution $x^\\star$ is an implicit function of $\\theta$\n",
    "* When unique, define solution map as function\n",
    "$x^\\star = \\mathcal S(\\theta)$\n",
    "* Need to call numerical solver to evaluate\n",
    "* This function is often differentiable\n",
    "* In a series of papers we showed how to analytically differentiate this function, using the implicit function theorem\n",
    "* Benefits of analytical differentiation: works with nonsmooth objective/constraints, low memory usage, don't compound errors"
   ]
  },
  {
   "cell_type": "markdown",
   "metadata": {},
   "source": [
    "## CVXPY\n",
    "* High level domain-specific language (DSL) for convex optimization\n",
    "* Define variables, parameters, objective and constraints\n",
    "* Synthesize into problem object, then call solve method\n",
    "* We've added derivatives to CVXPY (forward and backward)"
   ]
  },
  {
   "cell_type": "markdown",
   "metadata": {},
   "source": [
    "## CVXPYlayers\n",
    "![](https://github.com/cvxgrp/cvxpylayers/blob/master/cvxpylayers_logo.png?raw=true)\n",
    "* Convert CVXPY problems into callable, differentiable Pytorch and Tensorflow modules in one line"
   ]
  },
  {
   "cell_type": "markdown",
   "metadata": {},
   "source": [
    "## Applications\n",
    "* learning convex optimization models (structured prediction): https://stanford.edu/~boyd/papers/learning_copt_models.html\n",
    "* learning decision-making policies (reinforcement learning): https://stanford.edu/~boyd/papers/learning_cocps.html\n",
    "* machine learning hyper-parameter tuning and feature engineering: https://stanford.edu/~boyd/papers/lsat.html\n",
    "* repairing infeasible or unbounded optimization problems: https://stanford.edu/~boyd/papers/auto_repair_cvx.html\n",
    "* as protection layers in neural networks: http://physbam.stanford.edu/~fedkiw/papers/stanford2019-10.pdf\n",
    "* custom neural network layers (sparsemax, csoftmax, csparsemax, LML): https://locuslab.github.io/2019-10-28-cvxpylayers/\n",
    "* and many more... "
   ]
  },
  {
   "cell_type": "markdown",
   "metadata": {},
   "source": [
    "## Average example\n",
    "Find the average of a vector:\n",
    "\\begin{equation}\n",
    "\\begin{array}{ll}\n",
    "\\mbox{minimize} & \\sum_{i=1}^n (y_i - x)^2\n",
    "\\end{array}\n",
    "\\end{equation}\n",
    "Variable $x$, parameters $y\\in\\mathbf{R}^n$\n",
    "\n",
    "The solution map is clearly:\n",
    "$$x=\\sum_{i=1}^n y_i / n$$"
   ]
  },
  {
   "cell_type": "code",
   "execution_count": 2,
   "metadata": {},
   "outputs": [
    {
     "name": "stdout",
     "output_type": "stream",
     "text": [
      "solution: 0.177\n",
      "analytical solution: 0.177\n"
     ]
    }
   ],
   "source": [
    "n = 7\n",
    "\n",
    "# Define variables & parameters\n",
    "x = cp.Variable()\n",
    "y = cp.Parameter(n)\n",
    "\n",
    "# Define objective and constraints\n",
    "objective = cp.sum_squares(y - x)\n",
    "constraints = []\n",
    "\n",
    "# Synthesize problem\n",
    "prob = cp.Problem(cp.Minimize(objective), constraints)\n",
    "\n",
    "# Set parameter values\n",
    "y.value = np.random.randn(n)\n",
    "\n",
    "# Solve problem in one line\n",
    "prob.solve(requires_grad=True)\n",
    "print(\"solution:\", \"%.3f\" % x.value)\n",
    "print(\"analytical solution:\", \"%.3f\" % np.mean(y.value))"
   ]
  },
  {
   "cell_type": "markdown",
   "metadata": {},
   "source": [
    "The gradient is simply:\n",
    "$$\\nabla_y x = (1/n)\\mathbf{1}$$"
   ]
  },
  {
   "cell_type": "code",
   "execution_count": 3,
   "metadata": {},
   "outputs": [
    {
     "name": "stdout",
     "output_type": "stream",
     "text": [
      "gradient: [0.143 0.143 0.143 0.143 0.143 0.143 0.143]\n",
      "analytical gradient: [0.143 0.143 0.143 0.143 0.143 0.143 0.143]\n"
     ]
    }
   ],
   "source": [
    "# Set gradient wrt x\n",
    "x.gradient = np.array([1.])\n",
    "\n",
    "# Differentiate in one line\n",
    "prob.backward()\n",
    "print(\"gradient:\", y.gradient)\n",
    "print(\"analytical gradient:\", np.ones(y.size) / n)"
   ]
  },
  {
   "cell_type": "markdown",
   "metadata": {},
   "source": [
    "## Median example\n",
    "Finding the median of a vector:\n",
    "\\begin{equation}\n",
    "\\begin{array}{ll}\n",
    "\\mbox{minimize} & \\sum_{i=1}^n |y_i - x|,\n",
    "\\end{array}\n",
    "\\end{equation}\n",
    "Variable $x$, parameters $y\\in\\mathbf{R}^n$\n",
    "\n",
    "Solution:\n",
    "$$x=\\mathbf{median}(y)$$\n",
    "\n",
    "Gradient (no duplicates):\n",
    "$$(\\nabla_y x)_i = \\begin{cases}\n",
    "1 & y_i = \\mathbf{median}(y) \\\\\n",
    "0 & \\text{otherwise}.\n",
    "\\end{cases}$$"
   ]
  },
  {
   "cell_type": "code",
   "execution_count": 4,
   "metadata": {},
   "outputs": [
    {
     "name": "stdout",
     "output_type": "stream",
     "text": [
      "solution: -0.436\n",
      "analytical solution: -0.436\n"
     ]
    }
   ],
   "source": [
    "n = 7\n",
    "\n",
    "# Define variables & parameters\n",
    "x = cp.Variable()\n",
    "y = cp.Parameter(n)\n",
    "\n",
    "# Define objective and constraints\n",
    "objective = cp.norm1(y - x)\n",
    "constraints = []\n",
    "\n",
    "# Synthesize problem\n",
    "prob = cp.Problem(cp.Minimize(objective), constraints)\n",
    "\n",
    "# Set parameter values\n",
    "y.value = np.random.randn(n)\n",
    "\n",
    "# Solve problem in one line\n",
    "prob.solve(requires_grad=True)\n",
    "print(\"solution:\", \"%.3f\" % x.value)\n",
    "print(\"analytical solution:\", \"%.3f\" % np.median(y.value))"
   ]
  },
  {
   "cell_type": "code",
   "execution_count": 5,
   "metadata": {},
   "outputs": [
    {
     "name": "stdout",
     "output_type": "stream",
     "text": [
      "gradient: [ 0.  1. -0.  0. -0.  0. -0.]\n",
      "analytical gradient: [0. 1. 0. 0. 0. 0. 0.]\n"
     ]
    }
   ],
   "source": [
    "# Set gradient wrt x\n",
    "x.gradient = np.array([1.])\n",
    "\n",
    "# Differentiate in one line\n",
    "prob.backward()\n",
    "print(\"gradient:\", y.gradient)\n",
    "g = np.zeros(y.size)\n",
    "g[y.value == np.median(y.value)] = 1.\n",
    "print(\"analytical gradient:\", g)"
   ]
  },
  {
   "cell_type": "markdown",
   "metadata": {},
   "source": [
    "## Elastic-net regression example \n",
    "We are given training data $(x_i, y_i)_{i=1}^{N}$,\n",
    "where $x_i\\in\\mathbf{R}$ are inputs and $y_i\\in\\mathbf{R}$ are outputs.\n",
    "Suppose we fit a model for this regression problem by solving the elastic-net problem\n",
    "\\begin{equation}\n",
    "\\begin{array}{ll}\n",
    "\\mbox{minimize} & \\frac{1}{N}\\sum_{i=1}^N (ax_i + b - y_i)^2 + \\lambda |a| + \\alpha a^2,\n",
    "\\end{array}\n",
    "\\label{eq:trainlinear}\n",
    "\\end{equation}\n",
    "where $\\lambda,\\alpha>0$ are hyper-parameters.\n",
    "\n",
    "We hope that the test loss $\\mathcal{L}^{\\mathrm{test}}(a,b) =\n",
    "\\frac{1}{M}\\sum_{i=1}^M (a\\tilde x_i + b - \\tilde y_i)^2$ is small, where\n",
    "$(\\tilde x_i, \\tilde y_i)_{i=1}^{M}$ is our test set.\n",
    "\n",
    "First, we set up our problem, where $\\{x_i, y_i\\}_{i=1}^N$, $\\lambda$, and $\\alpha$ are our parameters."
   ]
  },
  {
   "cell_type": "code",
   "execution_count": 6,
   "metadata": {},
   "outputs": [],
   "source": [
    "from sklearn.datasets import make_blobs\n",
    "from sklearn.model_selection import train_test_split\n",
    "\n",
    "torch.manual_seed(0)\n",
    "np.random.seed(0)\n",
    "n = 2\n",
    "N = 60\n",
    "X, y = make_blobs(N, n, centers=np.array([[2, 2], [-2, -2]]), cluster_std=3)\n",
    "Xtrain, Xtest, ytrain, ytest = train_test_split(X, y, test_size=.5)\n",
    "\n",
    "Xtrain, Xtest, ytrain, ytest = map(\n",
    "    torch.from_numpy, [Xtrain, Xtest, ytrain, ytest])\n",
    "Xtrain.requires_grad_(True)\n",
    "m = Xtrain.shape[0]\n",
    "\n",
    "a = cp.Variable((n, 1))\n",
    "b = cp.Variable((1, 1))\n",
    "X = cp.Parameter((m, n))\n",
    "Y = ytrain.numpy()[:, np.newaxis]\n",
    "\n",
    "log_likelihood = (1. / m) * cp.sum(\n",
    "    cp.multiply(Y, X @ a + b) - cp.logistic(X @ a + b)\n",
    ")\n",
    "regularization = - 0.1 * cp.norm(a, 1) - 0.1 * cp.sum_squares(a)\n",
    "prob = cp.Problem(cp.Maximize(log_likelihood + regularization))\n",
    "fit_logreg = CvxpyLayer(prob, [X], [a, b])\n",
    "\n",
    "torch.manual_seed(0)\n",
    "np.random.seed(0)\n",
    "n = 1\n",
    "N = 60\n",
    "X = np.random.randn(N, n)\n",
    "theta = np.random.randn(n)\n",
    "y = X @ theta + .5 * np.random.randn(N)\n",
    "Xtrain, Xtest, ytrain, ytest = train_test_split(X, y, test_size=.5)\n",
    "Xtrain, Xtest, ytrain, ytest = map(\n",
    "    torch.from_numpy, [Xtrain, Xtest, ytrain, ytest])\n",
    "Xtrain.requires_grad_(True)\n",
    "\n",
    "m = Xtrain.shape[0]\n",
    "\n",
    "# set up variables and parameters\n",
    "a = cp.Variable(n)\n",
    "b = cp.Variable()\n",
    "X = cp.Parameter((m, n))\n",
    "Y = cp.Parameter(m)\n",
    "lam = cp.Parameter(nonneg=True)\n",
    "alpha = cp.Parameter(nonneg=True)\n",
    "\n",
    "# set up objective\n",
    "loss = (1/m)*cp.sum(cp.square(X @ a + b - Y))\n",
    "reg = lam * cp.norm1(a) + alpha * cp.sum_squares(a)\n",
    "objective = loss + reg\n",
    "\n",
    "# set up constraints\n",
    "constraints = []\n",
    "\n",
    "prob = cp.Problem(cp.Minimize(objective), constraints)"
   ]
  },
  {
   "cell_type": "code",
   "execution_count": 7,
   "metadata": {},
   "outputs": [
    {
     "data": {
      "text/plain": [
       "(tensor([[-0.6603]], grad_fn=<_CvxpyLayerFnFnBackward>),\n",
       " tensor([0.1356], grad_fn=<_CvxpyLayerFnFnBackward>))"
      ]
     },
     "execution_count": 7,
     "metadata": {},
     "output_type": "execute_result"
    }
   ],
   "source": [
    "# convert into pytorch layer in one line\n",
    "fit_lr = CvxpyLayer(prob, [X, Y, lam, alpha], [a, b])\n",
    "# this object is now callable with pytorch tensors\n",
    "fit_lr(Xtrain, ytrain, torch.zeros(1), torch.zeros(1))"
   ]
  },
  {
   "cell_type": "code",
   "execution_count": 8,
   "metadata": {},
   "outputs": [],
   "source": [
    "# sweep over values of alpha, holding lambda=0, evaluating the gradient along the way\n",
    "alphas = np.logspace(-3, 2, 200)\n",
    "test_losses = []\n",
    "grads = []\n",
    "for alpha_vals in alphas:\n",
    "    alpha_tch = torch.tensor([alpha_vals], requires_grad=True)\n",
    "    alpha_tch.grad = None\n",
    "    a_tch, b_tch = fit_lr(Xtrain, ytrain, torch.zeros(1), alpha_tch)\n",
    "    test_loss = (Xtest @ a_tch.flatten() + b_tch - ytest).pow(2).mean()\n",
    "    test_loss.backward()\n",
    "    test_losses.append(test_loss.item())\n",
    "    grads.append(alpha_tch.grad.item())"
   ]
  },
  {
   "cell_type": "code",
   "execution_count": 9,
   "metadata": {},
   "outputs": [
    {
     "data": {
      "image/png": "[encoded data removed]",
      "text/plain": [
       "<Figure size 432x288 with 1 Axes>"
      ]
     },
     "metadata": {
      "needs_background": "light"
     },
     "output_type": "display_data"
    }
   ],
   "source": [
    "plt.semilogx()\n",
    "plt.plot(alphas, test_losses, label='test loss')\n",
    "plt.plot(alphas, grads, label='analytical gradient')\n",
    "plt.plot(alphas[:-1], np.diff(test_losses) / np.diff(alphas), label='numerical gradient', linestyle='--')\n",
    "plt.legend()\n",
    "plt.xlabel(\"$\\\\alpha$\")\n",
    "plt.show()"
   ]
  },
  {
   "cell_type": "code",
   "execution_count": 10,
   "metadata": {},
   "outputs": [],
   "source": [
    "# sweep over values of lambda, holding alpha=0, evaluating the gradient along the way\n",
    "lams = np.logspace(-3, 2, 200)\n",
    "test_losses = []\n",
    "grads = []\n",
    "for lam_vals in lams:\n",
    "    lam_tch = torch.tensor([lam_vals], requires_grad=True)\n",
    "    lam_tch.grad = None\n",
    "    a_tch, b_tch = fit_lr(Xtrain, ytrain, lam_tch, torch.zeros(1))\n",
    "    test_loss = (Xtest @ a_tch.flatten() + b_tch - ytest).pow(2).mean()\n",
    "    test_loss.backward()\n",
    "    test_losses.append(test_loss.item())\n",
    "    grads.append(lam_tch.grad.item())"
   ]
  },
  {
   "cell_type": "code",
   "execution_count": 11,
   "metadata": {},
   "outputs": [
    {
     "data": {
      "image/png": "[encoded data removed]",
      "text/plain": [
       "<Figure size 432x288 with 1 Axes>"
      ]
     },
     "metadata": {
      "needs_background": "light"
     },
     "output_type": "display_data"
    }
   ],
   "source": [
    "plt.semilogx()\n",
    "plt.plot(lams, test_losses, label='test loss')\n",
    "plt.plot(lams, grads, label='analytical gradient')\n",
    "plt.plot(lams[:-1], np.diff(test_losses) / np.diff(lams), label='numerical gradient', linestyle='--')\n",
    "plt.legend()\n",
    "plt.xlabel(\"$\\\\lambda$\")\n",
    "plt.show()"
   ]
  },
  {
   "cell_type": "code",
   "execution_count": 12,
   "metadata": {},
   "outputs": [
    {
     "data": {
      "image/png": "[encoded data removed]",
      "text/plain": [
       "<Figure size 720x432 with 1 Axes>"
      ]
     },
     "metadata": {
      "needs_background": "light"
     },
     "output_type": "display_data"
    }
   ],
   "source": [
    "# compute the gradient of the test loss wrt all the training data points, and plot\n",
    "plt.figure(figsize=(10, 6))\n",
    "a_tch, b_tch = fit_lr(Xtrain, ytrain, torch.tensor([.05]), torch.tensor([.05]), solver_args={\"eps\": 1e-8})\n",
    "test_loss = (Xtest @ a_tch.flatten() + b_tch - ytest).pow(2).mean()\n",
    "test_loss.backward()\n",
    "a_tch_test, b_tch_test = fit_lr(Xtest, ytest, torch.tensor([0.]), torch.tensor([0.]), solver_args={\"eps\": 1e-8})\n",
    "plt.scatter(Xtrain.detach().numpy(), ytrain.numpy(), s=20)\n",
    "plt.plot([-5, 5], [-3*a_tch.item() + b_tch.item(),3*a_tch.item() + b_tch.item()], label='train')\n",
    "plt.plot([-5, 5], [-3*a_tch_test.item() + b_tch_test.item(), 3*a_tch_test.item() + b_tch_test.item()], label='test')\n",
    "Xtrain_np = Xtrain.detach().numpy()\n",
    "Xtrain_grad_np = Xtrain.grad.detach().numpy()\n",
    "ytrain_np = ytrain.numpy()\n",
    "for i in range(Xtrain_np.shape[0]):\n",
    "    plt.arrow(Xtrain_np[i], ytrain_np[i],\n",
    "              -.1 * Xtrain_grad_np[i][0], 0.)\n",
    "plt.legend()\n",
    "plt.show()"
   ]
  },
  {
   "cell_type": "code",
   "execution_count": 13,
   "metadata": {},
   "outputs": [
    {
     "data": {
      "image/png": "[encoded data removed]",
      "text/plain": [
       "<Figure size 720x432 with 1 Axes>"
      ]
     },
     "metadata": {
      "needs_background": "light"
     },
     "output_type": "display_data"
    }
   ],
   "source": [
    "# move the training data points in the direction of their gradients, and see the train line get closer to the test line\n",
    "plt.figure(figsize=(10, 6))\n",
    "Xtrain_new = torch.from_numpy(Xtrain_np - .15 * Xtrain_grad_np)\n",
    "a_tch, b_tch = fit_lr(Xtrain_new, ytrain, torch.tensor([.05]), torch.tensor([.05]), solver_args={\"eps\": 1e-8})\n",
    "plt.scatter(Xtrain_new.detach().numpy(), ytrain.numpy(), s=20)\n",
    "plt.plot([-5, 5], [-3*a_tch.item() + b_tch.item(),3*a_tch.item() + b_tch.item()], label='train')\n",
    "plt.plot([-5, 5], [-3*a_tch_test.item() + b_tch_test.item(), 3*a_tch_test.item() + b_tch_test.item()], label='test')\n",
    "plt.legend()\n",
    "plt.show()"
   ]
  }
 ],
 "metadata": {
  "@webio": {
   "lastCommId": null,
   "lastKernelId": null
  },
  "kernelspec": {
   "display_name": "Python 3",
   "language": "python",
   "name": "python3"
  },
  "language_info": {
   "codemirror_mode": {
    "name": "ipython",
    "version": 3
   },
   "file_extension": ".py",
   "mimetype": "text/x-python",
   "name": "python",
   "nbconvert_exporter": "python",
   "pygments_lexer": "ipython3",
   "version": "3.8.6"
  }
 },
 "nbformat": 4,
 "nbformat_minor": 2
}
